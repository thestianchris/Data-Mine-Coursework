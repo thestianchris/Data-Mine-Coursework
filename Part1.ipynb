{
 "cells": [
  {
   "attachments": {},
   "cell_type": "markdown",
   "metadata": {},
   "source": [
    "**Part 1 Data Mining By Christian Gauthier**\n",
    "\n",
    "*Sonar Detection Model - Using Nearest Neighbours*"
   ]
  },
  {
   "cell_type": "code",
   "execution_count": 1,
   "metadata": {},
   "outputs": [
    {
     "name": "stdout",
     "output_type": "stream",
     "text": [
      "Train Sample\n",
      "<bound method NDFrame.sample of          A1      A2      A3      A4      A5      A6      A7      A8      A9  \\\n",
      "0    0.0079  0.0086  0.0055  0.0250  0.0344  0.0546  0.0528  0.0958  0.1009   \n",
      "1    0.0599  0.0474  0.0498  0.0387  0.1026  0.0773  0.0853  0.0447  0.1094   \n",
      "2    0.0093  0.0269  0.0217  0.0339  0.0305  0.1172  0.1450  0.0638  0.0740   \n",
      "3    0.0151  0.0320  0.0599  0.1050  0.1163  0.1734  0.1679  0.1119  0.0889   \n",
      "4    0.0317  0.0956  0.1321  0.1408  0.1674  0.1710  0.0731  0.1401  0.2083   \n",
      "..      ...     ...     ...     ...     ...     ...     ...     ...     ...   \n",
      "134  0.0731  0.1249  0.1665  0.1496  0.1443  0.2770  0.2555  0.1712  0.0466   \n",
      "135  0.0516  0.0944  0.0622  0.0415  0.0995  0.2431  0.1777  0.2018  0.2611   \n",
      "136  0.0015  0.0186  0.0289  0.0195  0.0515  0.0817  0.1005  0.0124  0.1168   \n",
      "137  0.0411  0.0277  0.0604  0.0525  0.0489  0.0385  0.0611  0.1117  0.1237   \n",
      "138  0.0270  0.0163  0.0341  0.0247  0.0822  0.1256  0.1323  0.1584  0.2017   \n",
      "\n",
      "        A10  ...     A52     A53     A54     A55     A56     A57     A58  \\\n",
      "0    0.1240  ...  0.0176  0.0127  0.0088  0.0098  0.0019  0.0059  0.0058   \n",
      "1    0.0351  ...  0.0013  0.0005  0.0227  0.0209  0.0081  0.0117  0.0114   \n",
      "2    0.1360  ...  0.0212  0.0091  0.0056  0.0086  0.0092  0.0070  0.0116   \n",
      "3    0.1205  ...  0.0061  0.0015  0.0084  0.0128  0.0054  0.0011  0.0019   \n",
      "4    0.3513  ...  0.0201  0.0248  0.0131  0.0070  0.0138  0.0092  0.0143   \n",
      "..      ...  ...     ...     ...     ...     ...     ...     ...     ...   \n",
      "134  0.1114  ...  0.0444  0.0230  0.0290  0.0141  0.0161  0.0177  0.0194   \n",
      "135  0.1294  ...  0.0432  0.0274  0.0152  0.0120  0.0129  0.0020  0.0109   \n",
      "136  0.1476  ...  0.0108  0.0075  0.0089  0.0036  0.0029  0.0013  0.0010   \n",
      "137  0.2300  ...  0.0217  0.0038  0.0019  0.0065  0.0132  0.0108  0.0050   \n",
      "138  0.2122  ...  0.0189  0.0204  0.0085  0.0043  0.0092  0.0138  0.0094   \n",
      "\n",
      "        A59     A60  Class  \n",
      "0    0.0059  0.0032      R  \n",
      "1    0.0112  0.0100      M  \n",
      "2    0.0060  0.0110      R  \n",
      "3    0.0023  0.0062      R  \n",
      "4    0.0036  0.0103      R  \n",
      "..      ...     ...    ...  \n",
      "134  0.0207  0.0057      M  \n",
      "135  0.0074  0.0078      M  \n",
      "136  0.0032  0.0047      M  \n",
      "137  0.0085  0.0044      M  \n",
      "138  0.0105  0.0093      M  \n",
      "\n",
      "[139 rows x 61 columns]>\n"
     ]
    }
   ],
   "source": [
    "import pandas as pd\n",
    "import numpy as np\n",
    "import seaborn as sns\n",
    "import matplotlib.pyplot as plt\n",
    "\n",
    "#Read the csvs\n",
    "df_train = pd.read_csv('sonar_train.csv')\n",
    "df_test = pd.read_csv('sonar_test.csv')\n",
    "\n",
    "print(\"Train Sample\")\n",
    "print(df_train.sample)"
   ]
  },
  {
   "cell_type": "code",
   "execution_count": 2,
   "metadata": {},
   "outputs": [
    {
     "name": "stdout",
     "output_type": "stream",
     "text": [
      "Test Sample\n",
      "<bound method NDFrame.sample of         A1      A2      A3      A4      A5      A6      A7      A8      A9  \\\n",
      "0   0.0125  0.0152  0.0218  0.0175  0.0362  0.0696  0.0873  0.0616  0.1252   \n",
      "1   0.0530  0.0885  0.1997  0.2604  0.3225  0.2247  0.0617  0.2287  0.0950   \n",
      "2   0.0368  0.0279  0.0103  0.0566  0.0759  0.0679  0.0970  0.1473  0.2164   \n",
      "3   0.0164  0.0173  0.0347  0.0070  0.0187  0.0671  0.1056  0.0697  0.0962   \n",
      "4   0.0216  0.0124  0.0174  0.0152  0.0608  0.1026  0.1139  0.0877  0.1160   \n",
      "..     ...     ...     ...     ...     ...     ...     ...     ...     ...   \n",
      "64  0.0203  0.0121  0.0380  0.0128  0.0537  0.0874  0.1021  0.0852  0.1136   \n",
      "65  0.0117  0.0069  0.0279  0.0583  0.0915  0.1267  0.1577  0.1927  0.2361   \n",
      "66  0.0308  0.0339  0.0202  0.0889  0.1570  0.1750  0.0920  0.1353  0.1593   \n",
      "67  0.0526  0.0563  0.1219  0.1206  0.0246  0.1022  0.0539  0.0439  0.2291   \n",
      "68  0.0181  0.0146  0.0026  0.0141  0.0421  0.0473  0.0361  0.0741  0.1398   \n",
      "\n",
      "       A10  ...     A52     A53     A54     A55     A56     A57     A58  \\\n",
      "0   0.1302  ...  0.0041  0.0074  0.0030  0.0050  0.0048  0.0017  0.0041   \n",
      "1   0.0740  ...  0.0244  0.0199  0.0257  0.0082  0.0151  0.0171  0.0146   \n",
      "2   0.2544  ...  0.0105  0.0024  0.0018  0.0057  0.0092  0.0009  0.0086   \n",
      "3   0.0251  ...  0.0090  0.0223  0.0179  0.0084  0.0068  0.0032  0.0035   \n",
      "4   0.0866  ...  0.0052  0.0049  0.0096  0.0134  0.0122  0.0047  0.0018   \n",
      "..     ...  ...     ...     ...     ...     ...     ...     ...     ...   \n",
      "64  0.1747  ...  0.0134  0.0094  0.0047  0.0045  0.0042  0.0028  0.0036   \n",
      "65  0.2169  ...  0.0053  0.0029  0.0020  0.0013  0.0029  0.0020  0.0062   \n",
      "66  0.2795  ...  0.0167  0.0127  0.0138  0.0090  0.0051  0.0029  0.0122   \n",
      "67  0.1632  ...  0.0339  0.0149  0.0335  0.0376  0.0174  0.0132  0.0103   \n",
      "68  0.1045  ...  0.0223  0.0255  0.0145  0.0233  0.0041  0.0018  0.0048   \n",
      "\n",
      "       A59     A60  Class  \n",
      "0   0.0086  0.0058      R  \n",
      "1   0.0134  0.0056      M  \n",
      "2   0.0110  0.0052      M  \n",
      "3   0.0056  0.0040      R  \n",
      "4   0.0006  0.0023      R  \n",
      "..     ...     ...    ...  \n",
      "64  0.0013  0.0016      M  \n",
      "65  0.0026  0.0052      M  \n",
      "66  0.0056  0.0020      R  \n",
      "67  0.0364  0.0208      M  \n",
      "68  0.0089  0.0085      R  \n",
      "\n",
      "[69 rows x 61 columns]>\n"
     ]
    }
   ],
   "source": [
    "print(\"Test Sample\")\n",
    "print(df_test.sample)"
   ]
  },
  {
   "cell_type": "code",
   "execution_count": 3,
   "metadata": {},
   "outputs": [],
   "source": [
    "#Seperate the predictors and labels from datasets\n",
    "x_train = df_train.iloc[:, :-1]\n",
    "y_train = df_train.iloc[:,-1:].values\n",
    "\n",
    "x_test = df_test.iloc[:, :-1]\n",
    "y_test = df_test.iloc[:,-1:].values"
   ]
  },
  {
   "attachments": {},
   "cell_type": "markdown",
   "metadata": {},
   "source": [
    "*Standardize The Data*\n",
    "\n",
    "For the model to create representations within the data the predictors are standarized by removing the mean and scaling the values so that the distribution mean will be zero and standard deviation of 1. "
   ]
  },
  {
   "cell_type": "code",
   "execution_count": 4,
   "metadata": {},
   "outputs": [],
   "source": [
    "from sklearn.preprocessing import StandardScaler\n",
    "scaler = StandardScaler()\n",
    "\n",
    "x_train = scaler.fit_transform(x_train)\n",
    "x_test = scaler.transform(x_test)"
   ]
  },
  {
   "attachments": {},
   "cell_type": "markdown",
   "metadata": {},
   "source": [
    "*Minkowski Distance*\n",
    "\n",
    "Distance between points in an N-dimentional space, given by the sum to (|Xi – Yi|)^1/q\n",
    "\n",
    "Manhattan distance is the sum of all real distances between points, producing a stair like path formation between points, whilst Euclidian distance is the shortest path between the points producing a straight line. To get the different distances, a value of q is changed within the Minkowski distance formula:\n",
    "\n",
    "For Manhattan Distance q = 1, Euclidian Distance q = 2"
   ]
  },
  {
   "cell_type": "code",
   "execution_count": 5,
   "metadata": {},
   "outputs": [],
   "source": [
    "def minkowski_distance(x, y, q):\n",
    "    return np.sum(np.abs(x - y)**q)**(1/q) # value of q changes depending on what type of distance"
   ]
  },
  {
   "cell_type": "code",
   "execution_count": 6,
   "metadata": {},
   "outputs": [],
   "source": [
    "def nearest_neighbour(Xtrain, ytrain, Xtest, q):\n",
    "    y_pred = []\n",
    "    for i in range(Xtest.shape[0]):\n",
    "        distances = []\n",
    "        for j in range(Xtrain.shape[0]):\n",
    "            dist = minkowski_distance(Xtest[i], Xtrain[j], q)\n",
    "            distances.append((dist, ytrain[j]))\n",
    "        distances.sort()\n",
    "        y_pred.append(distances[0][1])\n",
    "    return y_pred"
   ]
  },
  {
   "cell_type": "code",
   "execution_count": 57,
   "metadata": {},
   "outputs": [],
   "source": [
    "#Classification using different Minkowski Distances\n",
    "y_pred_Man = nearest_neighbour(x_train, y_train, x_test, 1)\n",
    "y_pred_Euc = nearest_neighbour(x_train, y_train, x_test, 2)"
   ]
  },
  {
   "attachments": {},
   "cell_type": "markdown",
   "metadata": {},
   "source": [
    "*Evaluating Train Results*\n",
    "\n",
    "To evaluate the results, first the performance of the different distances has to be found by taking count of all the correct predictions by finding the false and positives of the data\n",
    "\n",
    "For this task, the value of M is the positive class whilst R is Negative\n",
    "\n",
    "Columns = Actual\n",
    "\n",
    "Rows = Predicted\n",
    "\n",
    "| | M | R |\n",
    "| --- | --- | --- |\n",
    "| M | True Positive | False Positive |\n",
    "| R | False Negative | True Negative |\n",
    "\n",
    "\n",
    "Evaluation Metrics:\n",
    "\n",
    "Accuracy: Correctly predicicted results = (tp + tn) / (tp + fp + tn + fn)\n",
    "\n",
    "Precision: Positive class predictions belonging to positive class = tp / (tp + fp)\n",
    "\n",
    "Recall: Negative class predictions belonging to negative class = tp / (tp + fn)\n",
    "\n",
    "F1: Single score balancing both precision and recall measuring overall performance = 2 * precision * recall / (precision + recall)"
   ]
  },
  {
   "cell_type": "code",
   "execution_count": 55,
   "metadata": {},
   "outputs": [],
   "source": [
    "def scorer(prediction_group):\n",
    "    tp = 0\n",
    "    fp = 0\n",
    "    fn = 0\n",
    "    tn = 0\n",
    "    #Run through all the different possibilities of positive and negative\n",
    "    for i in range (len(prediction_group)):\n",
    "        if(prediction_group[i] == 'M' and  y_test[i] == 'M'):\n",
    "            tp+=1;\n",
    "        elif(prediction_group[i] == 'M' and  y_test[i] != 'M'):\n",
    "            fp+=1;\n",
    "        elif(prediction_group[i] != 'M' and  y_test[i] == 'M'):\n",
    "            fn+=1;\n",
    "        elif(prediction_group[i] != 'M' and  y_test[i] != 'M'):\n",
    "            tn+=1;\n",
    "    accuracy = (tp + tn) / (tp + fp + tn + fn)\n",
    "    precision = tp / (tp + fp)\n",
    "    recall = tp / (tp + fn)\n",
    "    f1 = 2 * precision * recall / (precision + recall)\n",
    "    print(tp,fp,fn,tn)\n",
    "    return accuracy,precision,recall,f1"
   ]
  },
  {
   "cell_type": "code",
   "execution_count": 58,
   "metadata": {},
   "outputs": [
    {
     "name": "stdout",
     "output_type": "stream",
     "text": [
      "36 4 1 28\n",
      "36 4 1 28\n",
      "36 4 1 28\n",
      "36 4 1 28\n"
     ]
    }
   ],
   "source": [
    "results = []\n",
    "acc_man, prec_man, rec_man, f1_man = scorer(y_pred_Man)\n",
    "acc_euc, prec_euc, rec_euc, f1_euc = scorer(y_pred_Euc)\n",
    "results.append(scorer(y_pred_Man))\n",
    "results.append(scorer(y_pred_Euc))"
   ]
  },
  {
   "cell_type": "code",
   "execution_count": 59,
   "metadata": {},
   "outputs": [
    {
     "name": "stdout",
     "output_type": "stream",
     "text": [
      "[(0.927536231884058, 0.9, 0.972972972972973, 0.935064935064935), (0.927536231884058, 0.9, 0.972972972972973, 0.935064935064935)]\n"
     ]
    }
   ],
   "source": [
    "print(results)"
   ]
  },
  {
   "attachments": {},
   "cell_type": "markdown",
   "metadata": {},
   "source": [
    "**Results**\n",
    "\n",
    "*Manhattan Distance*"
   ]
  },
  {
   "cell_type": "code",
   "execution_count": 60,
   "metadata": {},
   "outputs": [
    {
     "name": "stdout",
     "output_type": "stream",
     "text": [
      "Accuracy: 0.93\n",
      "Precision: 0.90\n",
      "Recall: 0.97\n",
      "F1 Score: 0.94\n"
     ]
    }
   ],
   "source": [
    "print('Accuracy: {:.2f}'.format(acc_man))\n",
    "print('Precision: {:.2f}'.format(prec_man))\n",
    "print('Recall: {:.2f}'.format(rec_man))\n",
    "print('F1 Score: {:.2f}'.format(f1_man))"
   ]
  },
  {
   "attachments": {},
   "cell_type": "markdown",
   "metadata": {},
   "source": [
    "*Euclidian Disatnce* "
   ]
  },
  {
   "cell_type": "code",
   "execution_count": 61,
   "metadata": {},
   "outputs": [
    {
     "name": "stdout",
     "output_type": "stream",
     "text": [
      "Accuracy: 0.93\n",
      "Precision: 0.90\n",
      "Recall: 0.97\n",
      "F1 Score: 0.94\n"
     ]
    }
   ],
   "source": [
    "print('Accuracy: {:.2f}'.format(acc_euc))\n",
    "print('Precision: {:.2f}'.format(prec_euc))\n",
    "print('Recall: {:.2f}'.format(rec_euc))\n",
    "print('F1 Score: {:.2f}'.format(f1_euc))"
   ]
  },
  {
   "cell_type": "code",
   "execution_count": 62,
   "metadata": {},
   "outputs": [
    {
     "data": {
      "image/png": "[encoded data removed]",
      "text/plain": [
       "<Figure size 640x480 with 1 Axes>"
      ]
     },
     "metadata": {},
     "output_type": "display_data"
    }
   ],
   "source": [
    "qpos = range(1,3)\n",
    "results = np.array(results)\n",
    "plt.plot(qpos, results[:,0], label='Accuracy')\n",
    "plt.plot(qpos, results[:,1], label='Precision')\n",
    "plt.plot(qpos, results[:,2], label='Recall')\n",
    "plt.plot(qpos, results[:,3], label='F1 Score')\n",
    "plt.legend()\n",
    "plt.xlabel('q')\n",
    "plt.ylabel('Score')\n",
    "plt.show()"
   ]
  },
  {
   "attachments": {},
   "cell_type": "markdown",
   "metadata": {},
   "source": [
    "*Part A Evaluation*\n",
    "\n",
    "For the value of q = 1 and q = 2, the same results are achieved with results of:\n",
    "Accuracy: 0.93\n",
    "Precision: 0.90\n",
    "Recall: 0.97\n",
    "F1 Score: 0.94\n",
    "\n",
    "For the next stage of experimentation, q values between 1 and 20 will be tested."
   ]
  },
  {
   "cell_type": "code",
   "execution_count": 67,
   "metadata": {},
   "outputs": [
    {
     "name": "stdout",
     "output_type": "stream",
     "text": [
      "36 4 1 28\n",
      "36 4 1 28\n",
      "36 5 1 27\n",
      "36 6 1 26\n",
      "36 5 1 27\n",
      "35 5 2 27\n",
      "34 5 3 27\n",
      "34 6 3 26\n",
      "34 7 3 25\n",
      "33 7 4 25\n",
      "33 7 4 25\n",
      "33 8 4 24\n",
      "33 8 4 24\n",
      "33 8 4 24\n",
      "33 8 4 24\n",
      "33 9 4 23\n",
      "33 9 4 23\n",
      "33 9 4 23\n",
      "32 9 5 23\n",
      "32 9 5 23\n"
     ]
    }
   ],
   "source": [
    "qpos = range(1,21)\n",
    "results = []\n",
    "for i in qpos:\n",
    "    y_pred = nearest_neighbour(x_train, y_train, x_test, i)\n",
    "    results.append(scorer(y_pred))"
   ]
  },
  {
   "cell_type": "code",
   "execution_count": 68,
   "metadata": {},
   "outputs": [
    {
     "data": {
      "image/png": "[encoded data removed]",
      "text/plain": [
       "<Figure size 640x480 with 1 Axes>"
      ]
     },
     "metadata": {},
     "output_type": "display_data"
    }
   ],
   "source": [
    "results = np.array(results)\n",
    "plt.plot(qpos, results[:,0], label='Accuracy')\n",
    "plt.plot(qpos, results[:,1], label='Precision')\n",
    "plt.plot(qpos, results[:,2], label='Recall')\n",
    "plt.plot(qpos, results[:,3], label='F1 Score')\n",
    "plt.legend()\n",
    "plt.xlabel('q')\n",
    "plt.ylabel('Score')\n",
    "plt.show()"
   ]
  },
  {
   "attachments": {},
   "cell_type": "markdown",
   "metadata": {},
   "source": [
    "**Part B Evaluation**\n",
    "\n",
    "For the best results on the test set, both the values of q = 1 and q = 2 performed at the same level with an overall f1 score of 0.935\n",
    "\n",
    "As the value of q increased, all evaluation scores decreased with the worst performance being q = 20 with an f1 score of just over 0.78"
   ]
  }
 ],
 "metadata": {
  "kernelspec": {
   "display_name": "tf",
   "language": "python",
   "name": "python3"
  },
  "language_info": {
   "codemirror_mode": {
    "name": "ipython",
    "version": 3
   },
   "file_extension": ".py",
   "mimetype": "text/x-python",
   "name": "python",
   "nbconvert_exporter": "python",
   "pygments_lexer": "ipython3",
   "version": "3.9.15"
  },
  "orig_nbformat": 4,
  "vscode": {
   "interpreter": {
    "hash": "9396d7d05074184ad1bdffa89c9baf4b70aedb99cfe5c454adbba107973e00ee"
   }
  }
 },
 "nbformat": 4,
 "nbformat_minor": 2
}
